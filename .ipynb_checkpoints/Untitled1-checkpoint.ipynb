{
 "cells": [
  {
   "cell_type": "code",
   "execution_count": 34,
   "metadata": {},
   "outputs": [],
   "source": [
    "import pandas as pd\n",
    "import spacy as sp\n",
    "import re\n",
    "import sys\n",
    "from spacy.lang.pl.stop_words import STOP_WORDS\n"
   ]
  },
  {
   "cell_type": "code",
   "execution_count": 2,
   "metadata": {},
   "outputs": [],
   "source": [
    "nlp = sp.load(\"pl_core_news_sm\")"
   ]
  },
  {
   "cell_type": "code",
   "execution_count": 18,
   "metadata": {},
   "outputs": [],
   "source": [
    "doc = nlp(\"Zielona góra\")"
   ]
  },
  {
   "cell_type": "code",
   "execution_count": 31,
   "metadata": {},
   "outputs": [],
   "source": [
    "def base_text_form(text):\n",
    "    result = \"\"\n",
    "    doc = nlp(text)\n",
    "    for token in doc:\n",
    "        if token.text != \".\" or \",\":\n",
    "            result += f\"{token.lemma_} \"\n",
    "    return result"
   ]
  },
  {
   "cell_type": "code",
   "execution_count": 19,
   "metadata": {},
   "outputs": [
    {
     "name": "stdout",
     "output_type": "stream",
     "text": [
      "Zielona zielony\n",
      "góra góra\n"
     ]
    }
   ],
   "source": [
    "for token in doc:\n",
    "    print(token.text, token.lemma_)"
   ]
  },
  {
   "cell_type": "code",
   "execution_count": 29,
   "metadata": {},
   "outputs": [],
   "source": [
    "jakis_tekst = \"Kardynał Stanisław Dziwisz zaprzecza informacjom, które opublikowaliśmy w Onecie, jakoby krakowski metropolita w 2012 r. dowiedział się o pedofilii ks. Jana Wodniaka i nic z tą wiedzą nie zrobił. We wtorek wydał oświadczenie, w którym po raz kolejny zapewnił, że spotkania sprzed ośmiu laty z ks. Isakowiczem-Zaleskim, który miał go o tym poinformować, nie pamięta. Dziś krakowski duchwowny opublikował list, który wtedy przekazał swojemu przełożonemu. Z jego treści wynika, że zaniedbania kard. Dziwisza mogą być ogromne.\""
   ]
  },
  {
   "cell_type": "code",
   "execution_count": 32,
   "metadata": {},
   "outputs": [],
   "source": [
    "jakis_base_tekst = base_text_form(jakis_tekst)"
   ]
  },
  {
   "cell_type": "code",
   "execution_count": 33,
   "metadata": {},
   "outputs": [
    {
     "data": {
      "text/plain": [
       "'kardynał Stanisława dziwisz zaprzeczać informacja , który opublikować w onecie , jakoby krakowski metropolita w 2012 r . dowiedzieć się o pedofilia ks . Jan wodniak i nica z ten wiedza nie zrobić . w wtorek wydać oświadczenie , w który po raz kolejny zapewnić , że spotkanie sprzed osiem rok z ks . isakowiczem - Zaleskie , który mieć on o to poinformować , nie pamiętać . dziś krakowski duchwowny opublikować lista , który wtedy przekazać swój przełożony . z on treść wynikać , że zaniedbanie karda . Dziwisz móc być ogromny . '"
      ]
     },
     "execution_count": 33,
     "metadata": {},
     "output_type": "execute_result"
    }
   ],
   "source": [
    "jakis_base_tekst"
   ]
  },
  {
   "cell_type": "code",
   "execution_count": null,
   "metadata": {},
   "outputs": [],
   "source": []
  }
 ],
 "metadata": {
  "kernelspec": {
   "display_name": "Python 3",
   "language": "python",
   "name": "python3"
  },
  "language_info": {
   "codemirror_mode": {
    "name": "ipython",
    "version": 3
   },
   "file_extension": ".py",
   "mimetype": "text/x-python",
   "name": "python",
   "nbconvert_exporter": "python",
   "pygments_lexer": "ipython3",
   "version": "3.7.7"
  }
 },
 "nbformat": 4,
 "nbformat_minor": 4
}
